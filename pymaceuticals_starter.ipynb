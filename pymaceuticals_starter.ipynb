{
 "cells": [
  {
   "cell_type": "markdown",
   "metadata": {},
   "source": [
    "## Observations and Insights"
   ]
  },
  {
   "cell_type": "markdown",
   "metadata": {},
   "source": [
    " We are looking at different drug regimen used to treat tumor volume for mice in the lab.\n",
    "First thing that might be intersting is to look at the number of times(frequency) that each treatment is used(as it is shown in barplots). Then based on the average tumor size, we can look at the usefullness of one tretament vs. another. The lower the average tumor volume the more efficient is the drug regimen being used. We also looked at the sex(female vs. male) for the mice as it shown in the pie charts.\n",
    "\n",
    " We picked four most effective drug regimen(Capomulin, Ramicane, Infubinol and Ceftamin) based on average tumor volume and looked at the potential outliers. Within these four regimen, we looked at the relationship between Timepoints and Tumor Volume that indicates a negative relationship. \n",
    " \n",
    " Our last task was to focus on the most effective treatment regimen \"Capomulin\" and looking at the relationship between Tumor Volume and Weight. As shown in the scatterplot, there is a positive relationship between the tumor size and the weight of the mouse in this trial. Fatter mice were at the risk of having a bigger tumor. The explanatory power of our model is described by r-squared which is 0.84."
   ]
  },
  {
   "cell_type": "markdown",
   "metadata": {},
   "source": [
    "## Dependencies and starter code"
   ]
  },
  {
   "cell_type": "code",
   "execution_count": 2,
   "metadata": {},
   "outputs": [
    {
     "data": {
      "text/html": [
       "<div>\n",
       "<style scoped>\n",
       "    .dataframe tbody tr th:only-of-type {\n",
       "        vertical-align: middle;\n",
       "    }\n",
       "\n",
       "    .dataframe tbody tr th {\n",
       "        vertical-align: top;\n",
       "    }\n",
       "\n",
       "    .dataframe thead th {\n",
       "        text-align: right;\n",
       "    }\n",
       "</style>\n",
       "<table border=\"1\" class=\"dataframe\">\n",
       "  <thead>\n",
       "    <tr style=\"text-align: right;\">\n",
       "      <th></th>\n",
       "      <th>Mouse ID</th>\n",
       "      <th>Drug Regimen</th>\n",
       "      <th>Sex</th>\n",
       "      <th>Age_months</th>\n",
       "      <th>Weight (g)</th>\n",
       "      <th>Timepoint</th>\n",
       "      <th>Tumor Volume (mm3)</th>\n",
       "      <th>Metastatic Sites</th>\n",
       "    </tr>\n",
       "  </thead>\n",
       "  <tbody>\n",
       "    <tr>\n",
       "      <td>0</td>\n",
       "      <td>k403</td>\n",
       "      <td>Ramicane</td>\n",
       "      <td>Male</td>\n",
       "      <td>21</td>\n",
       "      <td>16</td>\n",
       "      <td>0</td>\n",
       "      <td>45.000000</td>\n",
       "      <td>0</td>\n",
       "    </tr>\n",
       "    <tr>\n",
       "      <td>1</td>\n",
       "      <td>k403</td>\n",
       "      <td>Ramicane</td>\n",
       "      <td>Male</td>\n",
       "      <td>21</td>\n",
       "      <td>16</td>\n",
       "      <td>5</td>\n",
       "      <td>38.825898</td>\n",
       "      <td>0</td>\n",
       "    </tr>\n",
       "    <tr>\n",
       "      <td>2</td>\n",
       "      <td>k403</td>\n",
       "      <td>Ramicane</td>\n",
       "      <td>Male</td>\n",
       "      <td>21</td>\n",
       "      <td>16</td>\n",
       "      <td>10</td>\n",
       "      <td>35.014271</td>\n",
       "      <td>1</td>\n",
       "    </tr>\n",
       "    <tr>\n",
       "      <td>3</td>\n",
       "      <td>k403</td>\n",
       "      <td>Ramicane</td>\n",
       "      <td>Male</td>\n",
       "      <td>21</td>\n",
       "      <td>16</td>\n",
       "      <td>15</td>\n",
       "      <td>34.223992</td>\n",
       "      <td>1</td>\n",
       "    </tr>\n",
       "    <tr>\n",
       "      <td>4</td>\n",
       "      <td>k403</td>\n",
       "      <td>Ramicane</td>\n",
       "      <td>Male</td>\n",
       "      <td>21</td>\n",
       "      <td>16</td>\n",
       "      <td>20</td>\n",
       "      <td>32.997729</td>\n",
       "      <td>1</td>\n",
       "    </tr>\n",
       "    <tr>\n",
       "      <td>...</td>\n",
       "      <td>...</td>\n",
       "      <td>...</td>\n",
       "      <td>...</td>\n",
       "      <td>...</td>\n",
       "      <td>...</td>\n",
       "      <td>...</td>\n",
       "      <td>...</td>\n",
       "      <td>...</td>\n",
       "    </tr>\n",
       "    <tr>\n",
       "      <td>1888</td>\n",
       "      <td>z969</td>\n",
       "      <td>Naftisol</td>\n",
       "      <td>Male</td>\n",
       "      <td>9</td>\n",
       "      <td>30</td>\n",
       "      <td>25</td>\n",
       "      <td>63.145652</td>\n",
       "      <td>2</td>\n",
       "    </tr>\n",
       "    <tr>\n",
       "      <td>1889</td>\n",
       "      <td>z969</td>\n",
       "      <td>Naftisol</td>\n",
       "      <td>Male</td>\n",
       "      <td>9</td>\n",
       "      <td>30</td>\n",
       "      <td>30</td>\n",
       "      <td>65.841013</td>\n",
       "      <td>3</td>\n",
       "    </tr>\n",
       "    <tr>\n",
       "      <td>1890</td>\n",
       "      <td>z969</td>\n",
       "      <td>Naftisol</td>\n",
       "      <td>Male</td>\n",
       "      <td>9</td>\n",
       "      <td>30</td>\n",
       "      <td>35</td>\n",
       "      <td>69.176246</td>\n",
       "      <td>4</td>\n",
       "    </tr>\n",
       "    <tr>\n",
       "      <td>1891</td>\n",
       "      <td>z969</td>\n",
       "      <td>Naftisol</td>\n",
       "      <td>Male</td>\n",
       "      <td>9</td>\n",
       "      <td>30</td>\n",
       "      <td>40</td>\n",
       "      <td>70.314904</td>\n",
       "      <td>4</td>\n",
       "    </tr>\n",
       "    <tr>\n",
       "      <td>1892</td>\n",
       "      <td>z969</td>\n",
       "      <td>Naftisol</td>\n",
       "      <td>Male</td>\n",
       "      <td>9</td>\n",
       "      <td>30</td>\n",
       "      <td>45</td>\n",
       "      <td>73.867845</td>\n",
       "      <td>4</td>\n",
       "    </tr>\n",
       "  </tbody>\n",
       "</table>\n",
       "<p>1893 rows × 8 columns</p>\n",
       "</div>"
      ],
      "text/plain": [
       "     Mouse ID Drug Regimen   Sex  Age_months  Weight (g)  Timepoint  \\\n",
       "0        k403     Ramicane  Male          21          16          0   \n",
       "1        k403     Ramicane  Male          21          16          5   \n",
       "2        k403     Ramicane  Male          21          16         10   \n",
       "3        k403     Ramicane  Male          21          16         15   \n",
       "4        k403     Ramicane  Male          21          16         20   \n",
       "...       ...          ...   ...         ...         ...        ...   \n",
       "1888     z969     Naftisol  Male           9          30         25   \n",
       "1889     z969     Naftisol  Male           9          30         30   \n",
       "1890     z969     Naftisol  Male           9          30         35   \n",
       "1891     z969     Naftisol  Male           9          30         40   \n",
       "1892     z969     Naftisol  Male           9          30         45   \n",
       "\n",
       "      Tumor Volume (mm3)  Metastatic Sites  \n",
       "0              45.000000                 0  \n",
       "1              38.825898                 0  \n",
       "2              35.014271                 1  \n",
       "3              34.223992                 1  \n",
       "4              32.997729                 1  \n",
       "...                  ...               ...  \n",
       "1888           63.145652                 2  \n",
       "1889           65.841013                 3  \n",
       "1890           69.176246                 4  \n",
       "1891           70.314904                 4  \n",
       "1892           73.867845                 4  \n",
       "\n",
       "[1893 rows x 8 columns]"
      ]
     },
     "execution_count": 2,
     "metadata": {},
     "output_type": "execute_result"
    }
   ],
   "source": [
    "# Dependencies and Setup\n",
    "import matplotlib.pyplot as plt\n",
    "import pandas as pd\n",
    "import scipy.stats as st\n",
    "import numpy as np\n",
    "from scipy.stats import pearsonr\n",
    "\n",
    "# Study data files\n",
    "mouse_metadata = \"data/Mouse_metadata.csv\"\n",
    "study_results = \"data/Study_results.csv\"\n",
    "\n",
    "# Read the mouse data and the study results\n",
    "mouse_metadata = pd.read_csv(mouse_metadata)\n",
    "study_results = pd.read_csv(study_results)\n",
    "\n",
    "# Combine the data into a single dataset\n",
    "\n",
    "merge_df = pd.merge(mouse_metadata, study_results , on=\"Mouse ID\", how=\"outer\")\n",
    "merge_df"
   ]
  },
  {
   "cell_type": "markdown",
   "metadata": {},
   "source": [
    "## Summary statistics"
   ]
  },
  {
   "cell_type": "code",
   "execution_count": 3,
   "metadata": {},
   "outputs": [
    {
     "data": {
      "text/html": [
       "<div>\n",
       "<style scoped>\n",
       "    .dataframe tbody tr th:only-of-type {\n",
       "        vertical-align: middle;\n",
       "    }\n",
       "\n",
       "    .dataframe tbody tr th {\n",
       "        vertical-align: top;\n",
       "    }\n",
       "\n",
       "    .dataframe thead th {\n",
       "        text-align: right;\n",
       "    }\n",
       "</style>\n",
       "<table border=\"1\" class=\"dataframe\">\n",
       "  <thead>\n",
       "    <tr style=\"text-align: right;\">\n",
       "      <th></th>\n",
       "      <th>Avg Tumor Vol by Regimen</th>\n",
       "      <th>Median Tumor Vol by Regimen</th>\n",
       "      <th>Var Tumor Vol by Regimen</th>\n",
       "      <th>STD Tumor Vol by Regimen</th>\n",
       "      <th>SEM Tumor Vol by Regimen</th>\n",
       "    </tr>\n",
       "    <tr>\n",
       "      <th>Drug Regimen</th>\n",
       "      <th></th>\n",
       "      <th></th>\n",
       "      <th></th>\n",
       "      <th></th>\n",
       "      <th></th>\n",
       "    </tr>\n",
       "  </thead>\n",
       "  <tbody>\n",
       "    <tr>\n",
       "      <td>Capomulin</td>\n",
       "      <td>40.68</td>\n",
       "      <td>41.56</td>\n",
       "      <td>24.95</td>\n",
       "      <td>4.99</td>\n",
       "      <td>0.33</td>\n",
       "    </tr>\n",
       "    <tr>\n",
       "      <td>Ceftamin</td>\n",
       "      <td>52.59</td>\n",
       "      <td>51.78</td>\n",
       "      <td>39.29</td>\n",
       "      <td>6.27</td>\n",
       "      <td>0.47</td>\n",
       "    </tr>\n",
       "    <tr>\n",
       "      <td>Infubinol</td>\n",
       "      <td>52.88</td>\n",
       "      <td>51.82</td>\n",
       "      <td>43.13</td>\n",
       "      <td>6.57</td>\n",
       "      <td>0.49</td>\n",
       "    </tr>\n",
       "    <tr>\n",
       "      <td>Ketapril</td>\n",
       "      <td>55.24</td>\n",
       "      <td>53.70</td>\n",
       "      <td>68.55</td>\n",
       "      <td>8.28</td>\n",
       "      <td>0.60</td>\n",
       "    </tr>\n",
       "    <tr>\n",
       "      <td>Naftisol</td>\n",
       "      <td>54.33</td>\n",
       "      <td>52.51</td>\n",
       "      <td>66.17</td>\n",
       "      <td>8.13</td>\n",
       "      <td>0.60</td>\n",
       "    </tr>\n",
       "    <tr>\n",
       "      <td>Placebo</td>\n",
       "      <td>54.03</td>\n",
       "      <td>52.29</td>\n",
       "      <td>61.17</td>\n",
       "      <td>7.82</td>\n",
       "      <td>0.58</td>\n",
       "    </tr>\n",
       "    <tr>\n",
       "      <td>Propriva</td>\n",
       "      <td>52.32</td>\n",
       "      <td>50.85</td>\n",
       "      <td>42.35</td>\n",
       "      <td>6.51</td>\n",
       "      <td>0.51</td>\n",
       "    </tr>\n",
       "    <tr>\n",
       "      <td>Ramicane</td>\n",
       "      <td>40.22</td>\n",
       "      <td>40.67</td>\n",
       "      <td>23.49</td>\n",
       "      <td>4.85</td>\n",
       "      <td>0.32</td>\n",
       "    </tr>\n",
       "    <tr>\n",
       "      <td>Stelasyn</td>\n",
       "      <td>54.23</td>\n",
       "      <td>52.43</td>\n",
       "      <td>59.45</td>\n",
       "      <td>7.71</td>\n",
       "      <td>0.57</td>\n",
       "    </tr>\n",
       "    <tr>\n",
       "      <td>Zoniferol</td>\n",
       "      <td>53.24</td>\n",
       "      <td>51.82</td>\n",
       "      <td>48.53</td>\n",
       "      <td>6.97</td>\n",
       "      <td>0.52</td>\n",
       "    </tr>\n",
       "  </tbody>\n",
       "</table>\n",
       "</div>"
      ],
      "text/plain": [
       "             Avg Tumor Vol by Regimen Median Tumor Vol by Regimen  \\\n",
       "Drug Regimen                                                        \n",
       "Capomulin                       40.68                       41.56   \n",
       "Ceftamin                        52.59                       51.78   \n",
       "Infubinol                       52.88                       51.82   \n",
       "Ketapril                        55.24                       53.70   \n",
       "Naftisol                        54.33                       52.51   \n",
       "Placebo                         54.03                       52.29   \n",
       "Propriva                        52.32                       50.85   \n",
       "Ramicane                        40.22                       40.67   \n",
       "Stelasyn                        54.23                       52.43   \n",
       "Zoniferol                       53.24                       51.82   \n",
       "\n",
       "             Var Tumor Vol by Regimen STD Tumor Vol by Regimen  \\\n",
       "Drug Regimen                                                     \n",
       "Capomulin                       24.95                     4.99   \n",
       "Ceftamin                        39.29                     6.27   \n",
       "Infubinol                       43.13                     6.57   \n",
       "Ketapril                        68.55                     8.28   \n",
       "Naftisol                        66.17                     8.13   \n",
       "Placebo                         61.17                     7.82   \n",
       "Propriva                        42.35                     6.51   \n",
       "Ramicane                        23.49                     4.85   \n",
       "Stelasyn                        59.45                     7.71   \n",
       "Zoniferol                       48.53                     6.97   \n",
       "\n",
       "             SEM Tumor Vol by Regimen  \n",
       "Drug Regimen                           \n",
       "Capomulin                        0.33  \n",
       "Ceftamin                         0.47  \n",
       "Infubinol                        0.49  \n",
       "Ketapril                         0.60  \n",
       "Naftisol                         0.60  \n",
       "Placebo                          0.58  \n",
       "Propriva                         0.51  \n",
       "Ramicane                         0.32  \n",
       "Stelasyn                         0.57  \n",
       "Zoniferol                        0.52  "
      ]
     },
     "execution_count": 3,
     "metadata": {},
     "output_type": "execute_result"
    }
   ],
   "source": [
    "# Generate a summary statistics table of mean, median, variance, standard deviation, and SEM of the tumor volume for each regimen\n",
    "\n",
    "Tumor_Volume_regimen_mean = merge_df.groupby(['Drug Regimen']).mean()['Tumor Volume (mm3)']\n",
    "Tumor_Volume_regimen_median = merge_df.groupby(['Drug Regimen']).median()['Tumor Volume (mm3)']\n",
    "Tumor_Volume_regimen_variance = merge_df.groupby(['Drug Regimen']).var()['Tumor Volume (mm3)']\n",
    "Tumor_Volume_regimen_std = merge_df.groupby(['Drug Regimen']).std()['Tumor Volume (mm3)']\n",
    "Tumor_Volume_regimen_sem = merge_df.groupby(['Drug Regimen']).sem()['Tumor Volume (mm3)'] \n",
    "\n",
    "# Summary DataFrame\n",
    "summary_data = pd.DataFrame({\n",
    "    \"Avg Tumor Vol by Regimen\": Tumor_Volume_regimen_mean, \n",
    "    \"Median Tumor Vol by Regimen\": Tumor_Volume_regimen_median,\n",
    "    \"Var Tumor Vol by Regimen\": Tumor_Volume_regimen_variance, \n",
    "    \"STD Tumor Vol by Regimen\": Tumor_Volume_regimen_std,\n",
    "    \"SEM Tumor Vol by Regimen\": Tumor_Volume_regimen_sem\n",
    "    \n",
    "})\n",
    "\n",
    "summary_data['Avg Tumor Vol by Regimen']=summary_data['Avg Tumor Vol by Regimen'].map(\"{:,.2f}\".format)\n",
    "summary_data['Median Tumor Vol by Regimen']=summary_data['Median Tumor Vol by Regimen'].map(\"{:,.2f}\".format)\n",
    "summary_data['Var Tumor Vol by Regimen']=summary_data['Var Tumor Vol by Regimen'].map(\"{:,.2f}\".format)\n",
    "summary_data['STD Tumor Vol by Regimen']=summary_data['STD Tumor Vol by Regimen'].map(\"{:,.2f}\".format)\n",
    "summary_data['SEM Tumor Vol by Regimen']=summary_data['SEM Tumor Vol by Regimen'].map(\"{:,.2f}\".format)\n",
    "\n",
    "summary_data\n"
   ]
  },
  {
   "cell_type": "markdown",
   "metadata": {},
   "source": [
    "## Bar plots"
   ]
  },
  {
   "cell_type": "code",
   "execution_count": 49,
   "metadata": {},
   "outputs": [
    {
     "data": {
      "image/png": "[encoded data removed]",
      "text/plain": [
       "<Figure size 432x288 with 1 Axes>"
      ]
     },
     "metadata": {
      "needs_background": "light"
     },
     "output_type": "display_data"
    },
    {
     "data": {
      "text/plain": [
       "<Figure size 432x288 with 0 Axes>"
      ]
     },
     "metadata": {},
     "output_type": "display_data"
    }
   ],
   "source": [
    "# Generate a bar plot showing number of data points for each treatment regimen using pandas\n",
    "treatment_group = merge_df.groupby('Drug Regimen')\n",
    "data_points = merge_df['Drug Regimen'].value_counts()\n",
    "#Using Pandas to create a bar chart\n",
    "count_chart = data_points.plot(kind='bar',color='orange', title=\"Data points for each treatment\")\n",
    "# Give our x_axis, and y_axis labels\n",
    "count_chart.set_xlabel(\"Treatment Regimen\")\n",
    "count_chart.set_ylabel(\"Treatment Usage\")\n",
    "\n",
    "plt.show()\n",
    "plt.tight_layout()"
   ]
  },
  {
   "cell_type": "code",
   "execution_count": 6,
   "metadata": {},
   "outputs": [
    {
     "data": {
      "text/plain": [
       "([<matplotlib.axis.XTick at 0x13101a0fc88>,\n",
       "  <matplotlib.axis.XTick at 0x13101a0f348>,\n",
       "  <matplotlib.axis.XTick at 0x13101a1cec8>,\n",
       "  <matplotlib.axis.XTick at 0x13102a2e108>,\n",
       "  <matplotlib.axis.XTick at 0x13102a2e748>,\n",
       "  <matplotlib.axis.XTick at 0x13102a2e148>,\n",
       "  <matplotlib.axis.XTick at 0x13102a33408>,\n",
       "  <matplotlib.axis.XTick at 0x13102a33bc8>,\n",
       "  <matplotlib.axis.XTick at 0x13102a363c8>,\n",
       "  <matplotlib.axis.XTick at 0x13102a390c8>],\n",
       " <a list of 10 Text xticklabel objects>)"
      ]
     },
     "execution_count": 6,
     "metadata": {},
     "output_type": "execute_result"
    },
    {
     "data": {
      "image/png": "[encoded data removed]",
      "text/plain": [
       "<Figure size 432x288 with 1 Axes>"
      ]
     },
     "metadata": {
      "needs_background": "light"
     },
     "output_type": "display_data"
    }
   ],
   "source": [
    "# Generate a bar plot showing number of data points nt regimen using pyplot\n",
    "\n",
    "# Create an array that contains the number of mouse for each treatment\n",
    "Regimen = [\"Capomulin\", \"Ramicane\", \"Ketapril\", \"Naftisol\", \"Zoniferol\", \"Stelasyn\", \"Placebo\", \"Ceftamin\", \"Infubinol\", \"Propriva\"]\n",
    "data_points = [230, 228, 188, 186, 182, 181, 181, 178, 178, 161]\n",
    "\n",
    "# Tell matplotlib where we would like to place each of our x axis headers\n",
    "x_axis=np.arange(len(Regimen))\n",
    "tick_locations=[value for value in x_axis]\n",
    "\n",
    "# Sets the x limits of the current chart\n",
    "plt.xlim(-.75, len(Regimen)-.25)\n",
    "# Sets the y limits of the current chart\n",
    "plt.ylim(0, max(data_points)+50)\n",
    "\n",
    "# Give our chart labels and a title\n",
    "plt.title(\"Treatment Users\")\n",
    "plt.xlabel(\"Regimen Drugs\")\n",
    "plt.ylabel(\"Number of Mouse per Treatment\")\n",
    "\n",
    "#Using Matplotlib to create a bar chart\n",
    "plt.bar(x_axis, data_points, facecolor=\"red\", alpha=0.75, align=\"center\")\n",
    "plt.xticks(tick_locations, Regimen, rotation=\"vertical\")"
   ]
  },
  {
   "cell_type": "markdown",
   "metadata": {},
   "source": [
    "## Pie plots"
   ]
  },
  {
   "cell_type": "code",
   "execution_count": 7,
   "metadata": {},
   "outputs": [
    {
     "data": {
      "text/html": [
       "<div>\n",
       "<style scoped>\n",
       "    .dataframe tbody tr th:only-of-type {\n",
       "        vertical-align: middle;\n",
       "    }\n",
       "\n",
       "    .dataframe tbody tr th {\n",
       "        vertical-align: top;\n",
       "    }\n",
       "\n",
       "    .dataframe thead th {\n",
       "        text-align: right;\n",
       "    }\n",
       "</style>\n",
       "<table border=\"1\" class=\"dataframe\">\n",
       "  <thead>\n",
       "    <tr style=\"text-align: right;\">\n",
       "      <th></th>\n",
       "      <th>Total Count</th>\n",
       "      <th>Percentage of Mice</th>\n",
       "    </tr>\n",
       "  </thead>\n",
       "  <tbody>\n",
       "    <tr>\n",
       "      <td>Male</td>\n",
       "      <td>125</td>\n",
       "      <td>50.2</td>\n",
       "    </tr>\n",
       "    <tr>\n",
       "      <td>Female</td>\n",
       "      <td>124</td>\n",
       "      <td>49.8</td>\n",
       "    </tr>\n",
       "  </tbody>\n",
       "</table>\n",
       "</div>"
      ],
      "text/plain": [
       "        Total Count  Percentage of Mice\n",
       "Male            125                50.2\n",
       "Female          124                49.8"
      ]
     },
     "execution_count": 7,
     "metadata": {},
     "output_type": "execute_result"
    }
   ],
   "source": [
    "#Create count and percentage of mice based on their sex\n",
    "x = mouse_metadata.count()[0]\n",
    "mice_count = mouse_metadata['Sex'].value_counts()\n",
    "percentage = round(mice_count/x *100,2)\n",
    "# Summary DataFrame\n",
    "summary_data = pd.DataFrame({\n",
    "    \"Total Count\": mice_count, \n",
    "    \"Percentage of Mice\": percentage\n",
    "    })\n",
    "\n",
    "summary_data "
   ]
  },
  {
   "cell_type": "code",
   "execution_count": 8,
   "metadata": {},
   "outputs": [
    {
     "data": {
      "text/plain": [
       "<matplotlib.axes._subplots.AxesSubplot at 0x13102a5c688>"
      ]
     },
     "execution_count": 8,
     "metadata": {},
     "output_type": "execute_result"
    },
    {
     "data": {
      "image/png": "[encoded data removed]",
      "text/plain": [
       "<Figure size 432x288 with 1 Axes>"
      ]
     },
     "metadata": {},
     "output_type": "display_data"
    }
   ],
   "source": [
    "# Generate a pie plot showing the distribution of female versus male mice using pandas\n",
    " summary_data['Percentage of Mice'].plot(kind='pie')"
   ]
  },
  {
   "cell_type": "code",
   "execution_count": 42,
   "metadata": {},
   "outputs": [
    {
     "data": {
      "image/png": "[encoded data removed]",
      "text/plain": [
       "<Figure size 432x288 with 1 Axes>"
      ]
     },
     "metadata": {},
     "output_type": "display_data"
    }
   ],
   "source": [
    "# Generate a pie plot showing the distribution of female versus male mice using pyplot\n",
    "# Labels for the sections of our pie chart\n",
    "labels = [\"Male\", \"Female\"]\n",
    "\n",
    "# The values of each section of the pie chart\n",
    "sizes = summary_data['Percentage of Mice']\n",
    "\n",
    "# The colors of each section of the pie chart\n",
    "colors = ('red', 'purple')\n",
    "\n",
    "# Tells matplotlib to seperate the female from male section\n",
    "explode = (0.5,0)\n",
    "\n",
    "# Give our chart title\n",
    "plt.title(\"Distribution of Female Vs. Male Mice\")\n",
    "\n",
    "plt.pie(sizes, explode= explode, labels=labels, colors=colors,\n",
    "        autopct=\"%1.1f%%\", shadow=True, startangle=90)\n",
    "\n",
    "# Create axes which are equal so we have a perfect circle\n",
    "plt.axis(\"equal\")\n",
    "\n",
    "plt.show()\n"
   ]
  },
  {
   "cell_type": "markdown",
   "metadata": {},
   "source": [
    "## Quartiles, outliers and boxplots"
   ]
  },
  {
   "cell_type": "code",
   "execution_count": 60,
   "metadata": {},
   "outputs": [
    {
     "data": {
      "text/html": [
       "<div>\n",
       "<style scoped>\n",
       "    .dataframe tbody tr th:only-of-type {\n",
       "        vertical-align: middle;\n",
       "    }\n",
       "\n",
       "    .dataframe tbody tr th {\n",
       "        vertical-align: top;\n",
       "    }\n",
       "\n",
       "    .dataframe thead th {\n",
       "        text-align: right;\n",
       "    }\n",
       "</style>\n",
       "<table border=\"1\" class=\"dataframe\">\n",
       "  <thead>\n",
       "    <tr style=\"text-align: right;\">\n",
       "      <th></th>\n",
       "      <th>Mouse ID</th>\n",
       "      <th>Timepoint</th>\n",
       "      <th>Drug Regimen</th>\n",
       "      <th>Sex</th>\n",
       "      <th>Age_months</th>\n",
       "      <th>Weight (g)</th>\n",
       "      <th>Tumor Volume (mm3)</th>\n",
       "      <th>Metastatic Sites</th>\n",
       "    </tr>\n",
       "  </thead>\n",
       "  <tbody>\n",
       "    <tr>\n",
       "      <td>0</td>\n",
       "      <td>a203</td>\n",
       "      <td>45</td>\n",
       "      <td>Infubinol</td>\n",
       "      <td>Female</td>\n",
       "      <td>20</td>\n",
       "      <td>23</td>\n",
       "      <td>67.973419</td>\n",
       "      <td>2</td>\n",
       "    </tr>\n",
       "    <tr>\n",
       "      <td>1</td>\n",
       "      <td>a251</td>\n",
       "      <td>45</td>\n",
       "      <td>Infubinol</td>\n",
       "      <td>Female</td>\n",
       "      <td>21</td>\n",
       "      <td>25</td>\n",
       "      <td>65.525743</td>\n",
       "      <td>1</td>\n",
       "    </tr>\n",
       "  </tbody>\n",
       "</table>\n",
       "</div>"
      ],
      "text/plain": [
       "  Mouse ID  Timepoint Drug Regimen     Sex  Age_months  Weight (g)  \\\n",
       "0     a203         45    Infubinol  Female          20          23   \n",
       "1     a251         45    Infubinol  Female          21          25   \n",
       "\n",
       "   Tumor Volume (mm3)  Metastatic Sites  \n",
       "0           67.973419                 2  \n",
       "1           65.525743                 1  "
      ]
     },
     "execution_count": 60,
     "metadata": {},
     "output_type": "execute_result"
    }
   ],
   "source": [
    "#Create a new dataframe based on Mouse ID and Timepoint\n",
    "Tumor_Volume_Mouse = merge_df.groupby(['Mouse ID']).max().reset_index()\n",
    "new_data = Tumor_Volume_Mouse[['Mouse ID', 'Timepoint']].merge(merge_df, on=['Mouse ID', 'Timepoint'], how=\"left\")\n",
    "new_data.head(2)"
   ]
  },
  {
   "cell_type": "code",
   "execution_count": 62,
   "metadata": {},
   "outputs": [
    {
     "name": "stdout",
     "output_type": "stream",
     "text": [
      "There are no outliers in the Capomulin treatment regimen.\n",
      "There are no outliers in the Ramicane treatment regimen.\n",
      "There are 1 outliers in the Infubinol treatment regimen, which are \n",
      " 31    36.321346\n",
      "Name: Tumor Volume (mm3), dtype: float64 \n",
      "There are no outliers in the Ceftamin treatment regimen.\n"
     ]
    }
   ],
   "source": [
    "# Calculate the final tumor volume of each mouse across four of the most promising treatment regimens. \n",
    "# Calculate the IQR and quantitatively determine if there are any potential outliers.\n",
    "capomulin_df = new_data.loc[new_data[\"Drug Regimen\"] == \"Capomulin\"]['Tumor Volume (mm3)']\n",
    "quartiles = capomulin_df.quantile([.25, .5, .75])\n",
    "lowerq = quartiles[0.25]\n",
    "upperq =quartiles[0.75]\n",
    "iqr = upperq-lowerq\n",
    "\n",
    "lower_bound = lowerq-(1.5*iqr) # values below lower_bound could be outliers\n",
    "upper_bound = upperq+(1.5*iqr) #values above upper_bound could be outliers\n",
    "\n",
    "outlier_capomulin = capomulin_df.loc[(capomulin_df < lower_bound) | (capomulin_df> upper_bound)]\n",
    "number_of_outliers=len(outlier_capomulin)\n",
    "if number_of_outliers>0:\n",
    "    print(f\"There are {number_of_outliers} outliers in the Capomulin treatment regimen, which are \\n {outlier_capomulin} \")\n",
    "else:\n",
    "    print(f\"There are no outliers in the Capomulin treatment regimen.\")\n",
    "\n",
    "ramicane_df = new_data.loc[new_data[\"Drug Regimen\"] == \"Ramicane\"]['Tumor Volume (mm3)']\n",
    "quartiles = ramicane_df.quantile([.25, .5, .75])\n",
    "lowerq = quartiles[0.25]\n",
    "upperq =quartiles[0.75]\n",
    "iqr = upperq-lowerq\n",
    "\n",
    "lower_bound = lowerq-(1.5*iqr) # values below lower_bound could be outliers\n",
    "upper_bound = upperq+(1.5*iqr) #values above upper_bound could be outliers\n",
    "\n",
    "outlier_ramicane = ramicane_df.loc[(ramicane_df < lower_bound) | (ramicane_df> upper_bound)]\n",
    "number_of_outliers=len(outlier_ramicane)\n",
    "if number_of_outliers>0:\n",
    "    print(f\"There are {number_of_outliers} outliers in the Ramicane treatment regimen, which are \\n {outlier_ramicane} \")\n",
    "else:\n",
    "    print(f\"There are no outliers in the Ramicane treatment regimen.\")\n",
    "\n",
    "infubinol_df = new_data.loc[new_data[\"Drug Regimen\"] == \"Infubinol\"]['Tumor Volume (mm3)']\n",
    "quartiles = infubinol_df.quantile([.25, .5, .75])\n",
    "lowerq = quartiles[0.25]\n",
    "upperq =quartiles[0.75]\n",
    "iqr = upperq-lowerq\n",
    "\n",
    "lower_bound = lowerq-(1.5*iqr) # values below lower_bound could be outliers\n",
    "upper_bound = upperq+(1.5*iqr) #values above upper_bound could be outliers\n",
    "\n",
    "outlier_infubinol= infubinol_df.loc[(infubinol_df < lower_bound) | (infubinol_df> upper_bound)]\n",
    "number_of_outliers=len(outlier_infubinol)\n",
    "if number_of_outliers>0:\n",
    "    print(f\"There are {number_of_outliers} outliers in the Infubinol treatment regimen, which are \\n {outlier_infubinol} \")\n",
    "else:\n",
    "    print(f\"There are no outliers in the infubinol treatment regimen.\")  \n",
    "\n",
    "ceftamin_df = new_data.loc[new_data[\"Drug Regimen\"] == \"Ceftamin\"]['Tumor Volume (mm3)']\n",
    "quartiles = ceftamin_df.quantile([.25, .5, .75])\n",
    "lowerq = quartiles[0.25]\n",
    "upperq =quartiles[0.75]\n",
    "iqr = upperq-lowerq\n",
    "\n",
    "lower_bound = lowerq-(1.5*iqr) # values below lower_bound could be outliers\n",
    "upper_bound = upperq+(1.5*iqr) #values above upper_bound could be outliers\n",
    "\n",
    "outlier_ceftamin = ceftamin_df.loc[(ceftamin_df < lower_bound) | (ceftamin_df> upper_bound)]\n",
    "number_of_outliers=len(outlier_ceftamin)\n",
    "if number_of_outliers>0:\n",
    "    print(f\"There are {number_of_outliers} outliers in the Ceftamin treatment regimen, which are \\n {outlier_ceftamin} \")\n",
    "else:\n",
    "    print(f\"There are no outliers in the Ceftamin treatment regimen.\")      "
   ]
  },
  {
   "cell_type": "code",
   "execution_count": 64,
   "metadata": {},
   "outputs": [
    {
     "data": {
      "image/png": "[encoded data removed]",
      "text/plain": [
       "<Figure size 864x720 with 1 Axes>"
      ]
     },
     "metadata": {
      "needs_background": "light"
     },
     "output_type": "display_data"
    }
   ],
   "source": [
    "data_to_plot = [capomulin_df, ramicane_df, infubinol_df, ceftamin_df]\n",
    "fig, ax = plt.subplots(figsize=(12,10))\n",
    "green_diamond = dict(markerfacecolor='g', marker='D', markersize=10)\n",
    "ax.boxplot(data_to_plot, flierprops=green_diamond)\n",
    "# box_plot = new_data.boxplot(ax=x, column= 'Tumor Volume (mm3)', by= 'Drug Regimen',flierprops=green_diamond )\n",
    "ax.set_title('Multiple Drug Regimens of Tumor Volume')\n",
    "ax.set_ylabel('Tumor Volume for Regimens of Interest')\n",
    "ax.set_xticklabels(['Capomulin', 'Ramicane', 'Infubinol', 'Ceftamin'])\n",
    "plt.show()"
   ]
  },
  {
   "cell_type": "markdown",
   "metadata": {},
   "source": [
    "## Line and scatter plots"
   ]
  },
  {
   "cell_type": "code",
   "execution_count": 58,
   "metadata": {},
   "outputs": [
    {
     "data": {
      "image/png": "[encoded data removed]",
      "text/plain": [
       "<Figure size 432x288 with 1 Axes>"
      ]
     },
     "metadata": {
      "needs_background": "light"
     },
     "output_type": "display_data"
    }
   ],
   "source": [
    "# Generate a line plot of time point versus tumor volume for a single mouse treated with Capomulin\n",
    "\n",
    "#searching for a mouse within capomulin treatment \n",
    "capomulin_data = merge_df.loc[merge_df['Drug Regimen']== \"Capomulin\" ]\n",
    "mouse_id = capomulin_data.loc[capomulin_data['Mouse ID']== \"s185\"]\n",
    "\n",
    "# Give our chart labels and title\n",
    "plt.title(\"Tumor Volume for a single mouse treated with Capomulin\")\n",
    "plt.xlabel(\"Tumor Volume\")\n",
    "plt.ylabel(\"Timepoint\")\n",
    "\n",
    "#Create a line plot\n",
    "mouse_line= plt.plot(mouse_id[\"Timepoint\"], mouse_id[\"Tumor Volume (mm3)\"])"
   ]
  },
  {
   "cell_type": "code",
   "execution_count": 39,
   "metadata": {},
   "outputs": [
    {
     "data": {
      "image/png": "[encoded data removed]",
      "text/plain": [
       "<Figure size 432x432 with 1 Axes>"
      ]
     },
     "metadata": {
      "needs_background": "light"
     },
     "output_type": "display_data"
    }
   ],
   "source": [
    "# Generate a scatter plot of mouse weight versus average tumor volume for the Capomulin regimen (Avg Tumor Vol by Regimen)\n",
    "tumor_volume_capomulin = merge_df.loc[merge_df['Drug Regimen']=='Capomulin']\n",
    "c_avg = tumor_volume_capomulin.groupby(['Mouse ID']).mean()\n",
    "\n",
    "#Create a line plot in Pandas\n",
    "c_avg.plot(kind=\"scatter\", x=\"Weight (g)\", y='Tumor Volume (mm3)', grid=True, figsize=(6,6),\n",
    "              title=\"Mouse Weight Vs. Tumor Volume\")\n",
    "plt.show()"
   ]
  },
  {
   "cell_type": "code",
   "execution_count": 53,
   "metadata": {
    "scrolled": true
   },
   "outputs": [
    {
     "name": "stdout",
     "output_type": "stream",
     "text": [
      "(0.8419363424694717, 1.322572243471279e-07)\n",
      "The r-squared is: 0.8419363424694718\n"
     ]
    },
    {
     "data": {
      "image/png": "[encoded data removed]",
      "text/plain": [
       "<Figure size 432x288 with 1 Axes>"
      ]
     },
     "metadata": {
      "needs_background": "light"
     },
     "output_type": "display_data"
    }
   ],
   "source": [
    "# Calculate the correlation coefficient for mouse weight and average tumor volume for the Capomulin regimen\n",
    "\n",
    "tumor_volume_capomulin = merge_df.loc[merge_df['Drug Regimen']=='Capomulin']\n",
    "c_avg = tumor_volume_capomulin.groupby(['Mouse ID']).mean().reset_index()\n",
    "\n",
    "# calculate pearson's correlation coefficient\n",
    "corr= st.pearsonr(c_avg['Weight (g)'], c_avg['Tumor Volume (mm3)'])\n",
    "print(corr)\n",
    "\n",
    "# Add the linear regression model\n",
    "x_values = c_avg['Weight (g)']\n",
    "y_values = c_avg['Tumor Volume (mm3)']\n",
    "(slope, intercept, rvalue, pvalue, stderr) = st.linregress(x_values, y_values)\n",
    "regress_values = x_values * slope + intercept\n",
    "line_eq = \"y = \" + str(round(slope,2)) + \"x + \" + str(round(intercept,2))\n",
    "plt.scatter(x_values,y_values)\n",
    "plt.plot(x_values,regress_values,\"r-\")\n",
    "plt.annotate(line_eq,(21,38),fontsize=15,color=\"red\")\n",
    "plt.xlabel('Mouse Weight')\n",
    "plt.ylabel('Average Tumor Vol_Capomulin')\n",
    "print(f\"The r-squared is: {rvalue}\")\n",
    "plt.show()"
   ]
  }
 ],
 "metadata": {
  "anaconda-cloud": {},
  "kernelspec": {
   "display_name": "Python 3",
   "language": "python",
   "name": "python3"
  }
 },
 "nbformat": 4,
 "nbformat_minor": 2
}
